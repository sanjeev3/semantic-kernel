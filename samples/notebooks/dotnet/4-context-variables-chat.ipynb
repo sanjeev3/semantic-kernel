{
 "cells": [
  {
   "attachments": {},
   "cell_type": "markdown",
   "metadata": {},
   "source": [
    "# Creating a basic chat experience with context variables\n",
    "\n",
    "In this example, we show how you can build a simple chat bot by sending and updating context with your requests. \n",
    "\n",
    "We introduce the Context Variables object which in this demo functions similarly as a key-value store that you can use when running the kernel.\n",
    "\n",
    "The context is local (i.e. in your computer's RAM) and not persisted anywhere beyond the life of this Jupyter session.\n",
    "\n",
    "In future examples, we will show how to persist the context on disk so that you can bring it into your applications.  \n",
    "\n",
    "In this chat scenario, as the user talks back and forth with the bot, the context gets populated with the history of the conversation. During each new run of the kernel, the context can provide the AI with its variables' content. "
   ]
  },
  {
   "cell_type": "code",
   "execution_count": 1,
   "metadata": {
    "dotnet_interactive": {
     "language": "csharp"
    },
    "polyglot_notebook": {
     "kernelName": "csharp"
    },
    "vscode": {
     "languageId": "polyglot-notebook"
    }
   },
   "outputs": [
    {
     "data": {
      "text/html": [
       "<div><div></div><div></div><div><strong>Installed Packages</strong><ul><li><span>Microsoft.SemanticKernel, 0.8.48.1-preview</span></li></ul></div></div>"
      ]
     },
     "metadata": {},
     "output_type": "display_data"
    }
   ],
   "source": [
    "#r \"nuget: Microsoft.SemanticKernel, 0.8.48.1-preview\"\n",
    "#!import config/Settings.cs\n",
    "\n",
    "\n",
    "using Microsoft.SemanticKernel;\n",
    "using Microsoft.SemanticKernel.Configuration;\n",
    "using Microsoft.SemanticKernel.SemanticFunctions;\n",
    "using Microsoft.SemanticKernel.KernelExtensions;\n",
    "using Microsoft.SemanticKernel.Orchestration;\n",
    "\n",
    "IKernel kernel = Microsoft.SemanticKernel.Kernel.Builder.Build();\n",
    "\n",
    "// Configure AI backend used by the kernel\n",
    "var (useAzureOpenAI, model, azureEndpoint, apiKey, orgId) = Settings.LoadFromFile();\n",
    "if (useAzureOpenAI)\n",
    "    kernel.Config.AddAzureOpenAICompletionBackend(\"davinci\", model, azureEndpoint, apiKey);\n",
    "else\n",
    "    kernel.Config.AddOpenAICompletionBackend(\"davinci\", model, apiKey, orgId);"
   ]
  },
  {
   "attachments": {},
   "cell_type": "markdown",
   "metadata": {},
   "source": [
    "Let's define a prompt outlining a dialogue chat bot."
   ]
  },
  {
   "cell_type": "code",
   "execution_count": 2,
   "metadata": {
    "dotnet_interactive": {
     "language": "csharp"
    },
    "polyglot_notebook": {
     "kernelName": "csharp"
    },
    "vscode": {
     "languageId": "polyglot-notebook"
    }
   },
   "outputs": [],
   "source": [
    "const string skPrompt = @\"\n",
    "ChatBot can have a conversation with you about any topic.\n",
    "It can give explicit instructions or say 'I don't know' if it does not have an answer.\n",
    "\n",
    "{{$history}}\n",
    "Human: {{$human_input}}\n",
    "ChatBot:\";\n",
    "\n",
    "var promptConfig = new PromptTemplateConfig\n",
    "{\n",
    "    Completion =\n",
    "    {\n",
    "        MaxTokens = 2000,\n",
    "        Temperature = 0.7,\n",
    "        TopP = 0.5,\n",
    "    }\n",
    "};"
   ]
  },
  {
   "attachments": {},
   "cell_type": "markdown",
   "metadata": {},
   "source": [
    "Register your semantic function"
   ]
  },
  {
   "cell_type": "code",
   "execution_count": 3,
   "metadata": {
    "dotnet_interactive": {
     "language": "csharp"
    },
    "polyglot_notebook": {
     "kernelName": "csharp"
    },
    "vscode": {
     "languageId": "polyglot-notebook"
    }
   },
   "outputs": [],
   "source": [
    "var promptTemplate = new PromptTemplate(skPrompt, promptConfig, kernel);\n",
    "var functionConfig = new SemanticFunctionConfig(promptConfig, promptTemplate);\n",
    "var chatFunction = kernel.RegisterSemanticFunction(\"ChatBot\", \"Chat\", functionConfig);"
   ]
  },
  {
   "attachments": {},
   "cell_type": "markdown",
   "metadata": {},
   "source": [
    "Initialize your context"
   ]
  },
  {
   "cell_type": "code",
   "execution_count": 4,
   "metadata": {
    "dotnet_interactive": {
     "language": "csharp"
    },
    "polyglot_notebook": {
     "kernelName": "csharp"
    },
    "vscode": {
     "languageId": "polyglot-notebook"
    }
   },
   "outputs": [],
   "source": [
    "var context = new ContextVariables();\n",
    "\n",
    "var history = \"\";\n",
    "context.Set(\"history\", history);"
   ]
  },
  {
   "attachments": {},
   "cell_type": "markdown",
   "metadata": {},
   "source": [
    "Chat with the Bot"
   ]
  },
  {
   "cell_type": "code",
   "execution_count": 5,
   "metadata": {
    "dotnet_interactive": {
     "language": "csharp"
    },
    "polyglot_notebook": {
     "kernelName": "csharp"
    },
    "vscode": {
     "languageId": "polyglot-notebook"
    }
   },
   "outputs": [],
   "source": [
    "var human_input = \"Hi, I'm looking for a specific book suggestion.\";\n",
    "context.Set(\"human_input\", human_input);\n",
    "\n",
    "var bot_answer = await kernel.RunAsync(context, chatFunction);"
   ]
  },
  {
   "attachments": {},
   "cell_type": "markdown",
   "metadata": {},
   "source": [
    "Update the history with the output"
   ]
  },
  {
   "cell_type": "code",
   "execution_count": 6,
   "metadata": {
    "dotnet_interactive": {
     "language": "csharp"
    },
    "polyglot_notebook": {
     "kernelName": "csharp"
    },
    "vscode": {
     "languageId": "polyglot-notebook"
    }
   },
   "outputs": [
    {
     "name": "stdout",
     "output_type": "stream",
     "text": [
      "\n",
      "Human: Hi, I'm looking for a specific book suggestion.\n",
      "Melody:  Hello, I'm happy to help you find a book. What kind of book are you interested in?\n",
      "\r\n"
     ]
    }
   ],
   "source": [
    "history += $\"\\nHuman: {human_input}\\nMelody: {bot_answer}\\n\";\n",
    "context.Update(history);\n",
    "\n",
    "Console.WriteLine(context);"
   ]
  },
  {
   "attachments": {},
   "cell_type": "markdown",
   "metadata": {},
   "source": [
    "Keep Chatting!"
   ]
  },
  {
   "cell_type": "code",
   "execution_count": 7,
   "metadata": {
    "dotnet_interactive": {
     "language": "csharp"
    },
    "polyglot_notebook": {
     "kernelName": "csharp"
    },
    "vscode": {
     "languageId": "polyglot-notebook"
    }
   },
   "outputs": [],
   "source": [
    "Func<string, Task> Chat = async (string input) => {\n",
    "    // Save new message in the context variables\n",
    "    context.Set(\"human_input\", input);\n",
    "\n",
    "    // Process the user message and get an answer\n",
    "    var answer = await kernel.RunAsync(context, chatFunction);\n",
    "\n",
    "    // Append the new interaction to the chat history\n",
    "    history += $\"\\nHuman: {input}\\nMelody: {answer}\\n\"; context.Set(\"history\", history);\n",
    "    \n",
    "    // Show the response\n",
    "    Console.WriteLine(context);\n",
    "};"
   ]
  },
  {
   "cell_type": "code",
   "execution_count": 12,
   "metadata": {
    "dotnet_interactive": {
     "language": "csharp"
    },
    "polyglot_notebook": {
     "kernelName": "csharp"
    },
    "vscode": {
     "languageId": "polyglot-notebook"
    }
   },
   "outputs": [
    {
     "name": "stdout",
     "output_type": "stream",
     "text": [
      "  Alright, I will only list one book for you. How about this one:\n",
      "\n",
      "- Greece: A History by Alexander Eliot: This is a comprehensive and engaging history of Greece, written by the American historian and writer Alexander Eliot. It covers the origins, achievements, and legacy of the ancient Greeks, as well as the modern history and politics of the country. It is a well-researched and accessible book, with illustrations, maps, and photographs.\r\n"
     ]
    }
   ],
   "source": [
    "await Chat(\"I would like a non-fiction book suggestion about Greece history. Please only list one book.\");"
   ]
  },
  {
   "cell_type": "code",
   "execution_count": 14,
   "metadata": {
    "dotnet_interactive": {
     "language": "csharp"
    },
    "polyglot_notebook": {
     "kernelName": "csharp"
    },
    "vscode": {
     "languageId": "polyglot-notebook"
    }
   },
   "outputs": [
    {
     "name": "stdout",
     "output_type": "stream",
     "text": [
      " Some of the topics you will learn about are:\n",
      "\n",
      "- The Minoan and Mycenaean civilizations, the first advanced cultures of Greece\n",
      "- The rise and fall of the city-states, such as Athens, Sparta, Thebes, and Corinth\n",
      "- The golden age of Greece, marked by the achievements of Pericles, Socrates, Plato, Aristotle, and Alexander the Great\n",
      "- The Hellenistic period, when Greek culture spread across the Mediterranean and Asia\n",
      "- The Roman and Byzantine domination of Greece, and the influence of Christianity and Islam\n",
      "- The Ottoman occupation of Greece, and the struggle for independence and democracy\n",
      "- The modern history of Greece, including the World Wars, the Civil War, the dictatorship, and the European integration\r\n"
     ]
    }
   ],
   "source": [
    "await Chat(\"that sounds interesting, what are some of the topics I will learn about?\");"
   ]
  },
  {
   "cell_type": "code",
   "execution_count": 15,
   "metadata": {
    "dotnet_interactive": {
     "language": "csharp"
    },
    "polyglot_notebook": {
     "kernelName": "csharp"
    },
    "vscode": {
     "languageId": "polyglot-notebook"
    }
   },
   "outputs": [
    {
     "name": "stdout",
     "output_type": "stream",
     "text": [
      "  That is a hard question to answer, as different people may have different preferences and opinions. However, I think that some of the topics that most people find interesting are:\n",
      "\n",
      "- The golden age of Greece, as it showcases the remarkable achievements and contributions of the ancient Greeks to various fields of knowledge and culture\n",
      "- The Hellenistic period, as it reveals the diversity and complexity of the Greek world, and its interactions with other civilizations and cultures\n",
      "- The modern history of Greece, as it relates to the current issues and challenges that the country faces, and its role in the European and global context\r\n"
     ]
    }
   ],
   "source": [
    "await Chat(\"Which topic from the ones you listed do you think most people find interesting?\");"
   ]
  },
  {
   "cell_type": "code",
   "execution_count": 16,
   "metadata": {
    "dotnet_interactive": {
     "language": "csharp"
    },
    "polyglot_notebook": {
     "kernelName": "csharp"
    },
    "vscode": {
     "languageId": "polyglot-notebook"
    }
   },
   "outputs": [
    {
     "name": "stdout",
     "output_type": "stream",
     "text": [
      " Sure, I can list some more books that you could read about the topics I mentioned. Here are some examples:\n",
      "\n",
      "- The Parthenon by Mary Beard: This is a fascinating and informative book, written by the British classicist and historian Mary Beard. It explores the history, meaning, and significance of the Parthenon, the iconic temple of Athens, and its impact on the world's imagination and culture.\n",
      "- Alexander the Great by Philip Freeman: This is a captivating and authoritative biography, written by the American historian and writer Philip Freeman. It chronicles the life, achievements, and legacy of Alexander the Great, the king of Macedonia, who conquered most of the known world and created a vast empire.\n",
      "- The Balkans: A Short History by Mark Mazower: This is a concise and insightful history, written by the British historian and professor Mark Mazower. It covers the turbulent and complex history of the Balkans, the region that includes Greece and its neighboring countries, and its role in the shaping of Europe and the world.\r\n"
     ]
    }
   ],
   "source": [
    "await Chat(\"could you list some more books I could read about the topic(s) you mentioned?\");"
   ]
  }
 ],
 "metadata": {
  "kernelspec": {
   "display_name": ".NET (C#)",
   "language": "C#",
   "name": ".net-csharp"
  },
  "language_info": {
   "file_extension": ".cs",
   "mimetype": "text/x-csharp",
   "name": "C#",
   "pygments_lexer": "csharp",
   "version": "11.0"
  },
  "polyglot_notebook": {
   "kernelInfo": {
    "defaultKernelName": "csharp",
    "items": [
     {
      "aliases": [],
      "name": "csharp"
     }
    ]
   }
  }
 },
 "nbformat": 4,
 "nbformat_minor": 2
}
