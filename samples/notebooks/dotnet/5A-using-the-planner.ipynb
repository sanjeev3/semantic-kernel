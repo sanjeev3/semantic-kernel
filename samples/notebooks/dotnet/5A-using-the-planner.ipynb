{
 "cells": [
  {
   "attachments": {},
   "cell_type": "markdown",
   "metadata": {},
   "source": [
    "# Introduction to the Planner\n",
    "\n",
    "The Planner is one of the fundamental concepts of the Semantic Kernel. It makes use of the collection of skills that have been registered to the kernel and using AI, will formulate a plan to execute a given ask.\n",
    "\n",
    "Read more about it [here](https://aka.ms/sk/concepts/planner)"
   ]
  },
  {
   "cell_type": "code",
   "execution_count": 15,
   "metadata": {
    "dotnet_interactive": {
     "language": "csharp"
    },
    "polyglot_notebook": {
     "kernelName": "csharp"
    }
   },
   "outputs": [
    {
     "data": {
      "text/html": [
       "<div><div></div><div></div><div><strong>Installed Packages</strong><ul><li><span>Microsoft.SemanticKernel, 0.8.48.1-preview</span></li></ul></div></div>"
      ]
     },
     "metadata": {},
     "output_type": "display_data"
    }
   ],
   "source": [
    "#r \"nuget: Microsoft.SemanticKernel, 0.8.48.1-preview\"\n",
    "#!import config/Settings.cs\n",
    "\n",
    "using Microsoft.Extensions;\n",
    "using Microsoft.SemanticKernel;\n",
    "using Microsoft.SemanticKernel.Configuration;\n",
    "using Microsoft.SemanticKernel.SemanticFunctions;\n",
    "using Microsoft.SemanticKernel.KernelExtensions;\n",
    "\n",
    "using System.IO;\n",
    "\n",
    "IKernel kernel = Microsoft.SemanticKernel.Kernel.Builder.Build();\n",
    "\n",
    "// Configure AI backend used by the kernel\n",
    "var (useAzureOpenAI, model, azureEndpoint, apiKey, orgId) = Settings.LoadFromFile();\n",
    "if (useAzureOpenAI)\n",
    "    kernel.Config.AddAzureOpenAICompletionBackend(\"davinci\", model, azureEndpoint, apiKey);\n",
    "else\n",
    "    kernel.Config.AddOpenAICompletionBackend(\"davinci\", model, apiKey, orgId);"
   ]
  },
  {
   "attachments": {},
   "cell_type": "markdown",
   "metadata": {},
   "source": [
    "### Setting Up the Planner\n",
    "The planner is located in the Semantic Kernel's CoreSkills and requires Orchestration"
   ]
  },
  {
   "cell_type": "code",
   "execution_count": 16,
   "metadata": {
    "dotnet_interactive": {
     "language": "csharp"
    },
    "polyglot_notebook": {
     "kernelName": "csharp"
    }
   },
   "outputs": [],
   "source": [
    "using Microsoft.SemanticKernel.CoreSkills;\n",
    "using Microsoft.SemanticKernel.Orchestration;\n",
    "using Microsoft.SemanticKernel.Orchestration.Extensions;\n",
    "\n",
    "// Load native skill into the kernel registry, sharing its functions with prompt templates\n",
    "var planner = kernel.ImportSkill(new PlannerSkill(kernel));"
   ]
  },
  {
   "attachments": {},
   "cell_type": "markdown",
   "metadata": {},
   "source": [
    "### Providing skills to the planner\n",
    "The planner needs to know what skills are available to it. Here we'll give it access to the `SummarizeSkill` and `WriterSkill` we have defined on disk."
   ]
  },
  {
   "cell_type": "code",
   "execution_count": 32,
   "metadata": {
    "dotnet_interactive": {
     "language": "csharp"
    },
    "polyglot_notebook": {
     "kernelName": "csharp"
    }
   },
   "outputs": [],
   "source": [
    "var skillsDirectory = Path.Combine(System.IO.Directory.GetCurrentDirectory(), \"..\", \"..\", \"skills\");\n",
    "kernel.ImportSemanticSkillFromDirectory(skillsDirectory, \"SummarizeSkill\");\n",
    "kernel.ImportSemanticSkillFromDirectory(skillsDirectory, \"WriterSkill\");"
   ]
  },
  {
   "attachments": {},
   "cell_type": "markdown",
   "metadata": {},
   "source": [
    "Define your ASK. What do you want the Kernel to do?"
   ]
  },
  {
   "cell_type": "code",
   "execution_count": 33,
   "metadata": {
    "dotnet_interactive": {
     "language": "csharp"
    },
    "polyglot_notebook": {
     "kernelName": "csharp"
    }
   },
   "outputs": [
    {
     "name": "stdout",
     "output_type": "stream",
     "text": [
      "Original plan:\n",
      "\n",
      "<goal>\n",
      "I need to email a friend with a list of top 5 places to visit in London.\n",
      "</goal>\n",
      "<plan>\n",
      "  <function.WriterSkill.Brainstorm input=\"Places to visit in London\" setContextVariable=\"IDEAS\"/>\n",
      "  <function._GLOBAL_FUNCTIONS_.BucketOutputs input=\"$IDEAS\" bucketCount=\"5\" bucketLabelPrefix=\"PLACE\"/>\n",
      "  <function.WriterSkill.EmailTo to=\"friend@example.com\" sender=\"me@example.com\">\n",
      "    <input>\n",
      "      Hi friend,\n",
      "\n",
      "      I hope you are doing well and looking forward to your trip to London. Here are some places I recommend you to visit:\n",
      "\n",
      "      - $PLACE_1: A brief description of why this place is worth visiting.\n",
      "      - $PLACE_2: A brief description of why this place is worth visiting.\n",
      "      - $PLACE_3: A brief description of why this place is worth visiting.\n",
      "      - $PLACE_4: A brief description of why this place is worth visiting.\n",
      "      - $PLACE_5: A brief description of why this place is worth visiting.\n",
      "\n",
      "      Let me know if you have any questions or need more suggestions. I can't wait to see you soon.\n",
      "\n",
      "      Best,\n",
      "      Me\n",
      "    </input>\n",
      "  </function.WriterSkill.EmailTo>\n",
      "</plan>\n"
     ]
    }
   ],
   "source": [
    "var ask = \"I need to email a friend with a list of top 5 places to visit in London.\";\n",
    "var originalPlan = await kernel.RunAsync(ask, planner[\"CreatePlan\"]);\n",
    "\n",
    "Console.WriteLine(\"Original plan:\\n\");\n",
    "Console.WriteLine(originalPlan.Variables.ToPlan().PlanString);"
   ]
  },
  {
   "attachments": {},
   "cell_type": "markdown",
   "metadata": {},
   "source": [
    "As you can see in the above plan, the Planner has taken the user's ask and converted it into an XML-based plan detailing how the AI would go about solving this task.\n",
    "\n",
    "It makes use of the skills that the Kernel has available to it and determines which functions to call in order to fullfill the user's ask.\n",
    "\n",
    "The output of each step of the plan gets set as `setContextVariable` which makes it available as `input` to the next skill."
   ]
  },
  {
   "attachments": {},
   "cell_type": "markdown",
   "metadata": {},
   "source": [
    "Let's also define an inline skill and have it be available to the Planner.\n",
    "Be sure to give it a function name and skill name."
   ]
  },
  {
   "cell_type": "code",
   "execution_count": 40,
   "metadata": {
    "dotnet_interactive": {
     "language": "csharp"
    },
    "polyglot_notebook": {
     "kernelName": "csharp"
    }
   },
   "outputs": [],
   "source": [
    "string skPrompt = \"\"\"\n",
    "{{$input}}\n",
    "\n",
    "Rewrite the above in the style of Winston Churchill.\n",
    "\"\"\";\n",
    "var shakespeareFunction = kernel.CreateSemanticFunction(skPrompt, \"churchill\", \"ChurchillSkill\", maxTokens: 2000, temperature: 0.2, topP: 0.5);"
   ]
  },
  {
   "attachments": {},
   "cell_type": "markdown",
   "metadata": {},
   "source": [
    "Let's update our ask using this new skill."
   ]
  },
  {
   "cell_type": "code",
   "execution_count": 41,
   "metadata": {
    "dotnet_interactive": {
     "language": "csharp"
    },
    "polyglot_notebook": {
     "kernelName": "csharp"
    }
   },
   "outputs": [],
   "source": [
    "var ask = @\"I need to email a friend in Churchill's style, with a list of top 5 places to visit in London.\";"
   ]
  },
  {
   "cell_type": "code",
   "execution_count": 42,
   "metadata": {
    "dotnet_interactive": {
     "language": "csharp"
    },
    "polyglot_notebook": {
     "kernelName": "csharp"
    }
   },
   "outputs": [],
   "source": [
    "var newPlan = await kernel.RunAsync(ask, planner[\"CreatePlan\"]);"
   ]
  },
  {
   "cell_type": "code",
   "execution_count": 43,
   "metadata": {
    "dotnet_interactive": {
     "language": "csharp"
    },
    "polyglot_notebook": {
     "kernelName": "csharp"
    }
   },
   "outputs": [
    {
     "name": "stdout",
     "output_type": "stream",
     "text": [
      "Updated plan:\n",
      "\n",
      "<goal>\n",
      "I need to email a friend in Churchill's style, with a list of top 5 places to visit in London.\n",
      "</goal>\n",
      "<plan>\n",
      "  <function.WriterSkill.Brainstorm input=\"Top 5 places to visit in London\" setContextVariable=\"PLACES\"/>\n",
      "  <function._GLOBAL_FUNCTIONS_.BucketOutputs input=\"$PLACES\" bucketCount=\"5\" bucketLabelPrefix=\"PLACE\"/>\n",
      "  <function.WriterSkill.EmailTo to=\"friend@example.com\" sender=\"me@example.com\">\n",
      "    <input>\n",
      "      Dear friend,\n",
      "\n",
      "      I hope this letter finds you in good health and spirits. I am writing to you to share some of my recommendations for your upcoming trip to London, the capital of the British Empire and the cradle of civilization.\n",
      "\n",
      "      Here are the top 5 places that you must visit in London, according to my humble opinion:\n",
      "\n",
      "      - $PLACE_1: A brief description of why this place is worth visiting.\n",
      "      - $PLACE_2: A brief description of why this place is worth visiting.\n",
      "      - $PLACE_3: A brief description of why this place is worth visiting.\n",
      "      - $PLACE_4: A brief description of why this place is worth visiting.\n",
      "      - $PLACE_5: A brief description of why this place is worth visiting.\n",
      "\n",
      "      I hope you will enjoy these splendid sights and marvel at the history and culture of this great city. Do not hesitate to contact me if you need any further assistance or advice.\n",
      "\n",
      "      Yours sincerely,\n",
      "\n",
      "      Me\n",
      "    </input>\n",
      "  </function.WriterSkill.EmailTo>\n",
      "  <function.ChurchillSkill.churchill/>\n",
      "</plan>\n"
     ]
    }
   ],
   "source": [
    "Console.WriteLine(\"Updated plan:\\n\");\n",
    "Console.WriteLine(newPlan.Variables.ToPlan().PlanString);"
   ]
  },
  {
   "attachments": {},
   "cell_type": "markdown",
   "metadata": {},
   "source": [
    "### Executing the plan\n",
    "\n",
    "Now that we have a plan, let's try to execute it! The Planner has a skill called `ExecutePlan`."
   ]
  },
  {
   "cell_type": "code",
   "execution_count": 44,
   "metadata": {
    "dotnet_interactive": {
     "language": "csharp"
    },
    "polyglot_notebook": {
     "kernelName": "csharp"
    }
   },
   "outputs": [],
   "source": [
    "var executionResults = newPlan;"
   ]
  },
  {
   "cell_type": "code",
   "execution_count": 45,
   "metadata": {
    "dotnet_interactive": {
     "language": "csharp"
    },
    "polyglot_notebook": {
     "kernelName": "csharp"
    }
   },
   "outputs": [
    {
     "name": "stdout",
     "output_type": "stream",
     "text": [
      "Step 1 - Execution results:\n",
      "\n",
      "<goal>\n",
      "I need to email a friend in Churchill's style, with a list of top 5 places to visit in London.\n",
      "</goal><plan>\n",
      "  <function._GLOBAL_FUNCTIONS_.BucketOutputs input=\"$PLACES\" bucketCount=\"5\" bucketLabelPrefix=\"PLACE\" />\n",
      "  <function.WriterSkill.EmailTo to=\"friend@example.com\" sender=\"me@example.com\"><input>\n",
      "      Dear friend,\n",
      "\n",
      "      I hope this letter finds you in good health and spirits. I am writing to you to share some of my recommendations for your upcoming trip to London, the capital of the British Empire and the cradle of civilization.\n",
      "\n",
      "      Here are the top 5 places that you must visit in London, according to my humble opinion:\n",
      "\n",
      "      - $PLACE_1: A brief description of why this place is worth visiting.\n",
      "      - $PLACE_2: A brief description of why this place is worth visiting.\n",
      "      - $PLACE_3: A brief description of why this place is worth visiting.\n",
      "      - $PLACE_4: A brief description of why this place is worth visiting.\n",
      "      - $PLACE_5: A brief description of why this place is worth visiting.\n",
      "\n",
      "      I hope you will enjoy these splendid sights and marvel at the history and culture of this great city. Do not hesitate to contact me if you need any further assistance or advice.\n",
      "\n",
      "      Yours sincerely,\n",
      "\n",
      "      Me\n",
      "    </input></function.WriterSkill.EmailTo>\n",
      "  <function.ChurchillSkill.churchill />\n",
      "</plan>\n",
      "\n",
      "Step 2 - Execution results:\n",
      "\n",
      "<goal>\n",
      "I need to email a friend in Churchill's style, with a list of top 5 places to visit in London.\n",
      "</goal><plan>\n",
      "  <function.WriterSkill.EmailTo to=\"friend@example.com\" sender=\"me@example.com\"><input>\n",
      "      Dear friend,\n",
      "\n",
      "      I hope this letter finds you in good health and spirits. I am writing to you to share some of my recommendations for your upcoming trip to London, the capital of the British Empire and the cradle of civilization.\n",
      "\n",
      "      Here are the top 5 places that you must visit in London, according to my humble opinion:\n",
      "\n",
      "      - $PLACE_1: A brief description of why this place is worth visiting.\n",
      "      - $PLACE_2: A brief description of why this place is worth visiting.\n",
      "      - $PLACE_3: A brief description of why this place is worth visiting.\n",
      "      - $PLACE_4: A brief description of why this place is worth visiting.\n",
      "      - $PLACE_5: A brief description of why this place is worth visiting.\n",
      "\n",
      "      I hope you will enjoy these splendid sights and marvel at the history and culture of this great city. Do not hesitate to contact me if you need any further assistance or advice.\n",
      "\n",
      "      Yours sincerely,\n",
      "\n",
      "      Me\n",
      "    </input></function.WriterSkill.EmailTo>\n",
      "  <function.ChurchillSkill.churchill />\n",
      "</plan>\n",
      "\n",
      "Step 3 - Execution results:\n",
      "\n",
      "<goal>\n",
      "I need to email a friend in Churchill's style, with a list of top 5 places to visit in London.\n",
      "</goal><plan>\n",
      "  <function.ChurchillSkill.churchill />\n",
      "</plan>\n",
      "\n",
      "Step 4 - Execution results:\n",
      "\n",
      "<goal>\n",
      "I need to email a friend in Churchill's style, with a list of top 5 places to visit in London.\n",
      "</goal><plan>\n",
      "</plan>\n",
      "Step 4 - COMPLETE!\n",
      "\n",
      "\n",
      "Possible rewrite:\n",
      "\n",
      "- The Palace of Buckingham: Here dwells the Sovereign of our realm and the head of our Commonwealth, and here you may behold the splendid ritual of the Guard's Relief and the majestic chambers of state.\n",
      "- The Eye of London: A colossal wheel of iron and glass that lifts you high above the metropolis and reveals to you its grandeur and glory, its monuments and memorials, its seat of government and its abbey of kings.\n",
      "- The Tower of London: A venerable stronghold and a World Heritage of mankind, where you may gaze upon the regalia of our crown, the warders of our tradition, and the birds of our legend, and where you may learn of the dark deeds and the noble sacrifices that have marked its walls.\n",
      "- The Museum of Britain: A vast and splendid repository of the arts and sciences, the cultures and civilizations, the wisdom and wonders of the ages, where you may marvel at the stone that unlocked the secrets of Egypt, the sculptures that adorned the temple of Athens, and the embalmed remains of the ancient dead.\n",
      "- The Park of Hyde: A verdant and spacious haven in the midst of the city, where you may refresh your spirit and your senses, where you may row on the lake, stroll on the paths, or listen to the music, and where you may visit the gallery of modern art, the fountain of our beloved princess, and the memorial of our finest hour.\n"
     ]
    }
   ],
   "source": [
    "int step = 1;\n",
    "int maxSteps = 5;\n",
    "while (!executionResults.Variables.ToPlan().IsComplete && step < maxSteps)\n",
    "{\n",
    "    var results = await kernel.RunAsync(executionResults.Variables, planner[\"ExecutePlan\"]);\n",
    "    if (results.Variables.ToPlan().IsSuccessful)\n",
    "    {\n",
    "        Console.WriteLine($\"Step {step} - Execution results:\\n\");\n",
    "        Console.WriteLine(results.Variables.ToPlan().PlanString);\n",
    "\n",
    "        if (results.Variables.ToPlan().IsComplete)\n",
    "        {\n",
    "            Console.WriteLine($\"Step {step} - COMPLETE!\");\n",
    "            Console.WriteLine(results.Variables.ToPlan().Result);\n",
    "            break;\n",
    "        }\n",
    "    }\n",
    "    else\n",
    "    {\n",
    "        Console.WriteLine($\"Step {step} - Execution failed:\");\n",
    "        Console.WriteLine(results.Variables.ToPlan().Result);\n",
    "        break;\n",
    "    }\n",
    "    \n",
    "    executionResults = results;\n",
    "    step++;\n",
    "    Console.WriteLine(\"\");\n",
    "}"
   ]
  }
 ],
 "metadata": {
  "kernelspec": {
   "display_name": ".NET (C#)",
   "language": "C#",
   "name": ".net-csharp"
  },
  "language_info": {
   "name": "polyglot-notebook"
  },
  "polyglot_notebook": {
   "kernelInfo": {
    "defaultKernelName": "csharp",
    "items": [
     {
      "aliases": [],
      "name": "csharp"
     }
    ]
   }
  }
 },
 "nbformat": 4,
 "nbformat_minor": 2
}
